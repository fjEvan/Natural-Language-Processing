{
  "nbformat": 4,
  "nbformat_minor": 0,
  "metadata": {
    "colab": {
      "name": "NLP - RNN with LSTM (Rating).ipynb",
      "version": "0.3.2",
      "provenance": [],
      "collapsed_sections": []
    },
    "kernelspec": {
      "name": "python3",
      "display_name": "Python 3"
    },
    "accelerator": "GPU"
  },
  "cells": [
    {
      "metadata": {
        "id": "cUbrTvXr7FRC",
        "colab_type": "text"
      },
      "cell_type": "markdown",
      "source": [
        "### Initialisation"
      ]
    },
    {
      "metadata": {
        "id": "yH2wvtEJY5Gm",
        "colab_type": "code",
        "colab": {}
      },
      "cell_type": "code",
      "source": [
        "import matplotlib.pyplot as plt\n",
        "import nltk\n",
        "import numpy as np\n",
        "import pandas as pd\n",
        "import seaborn as sns"
      ],
      "execution_count": 0,
      "outputs": []
    },
    {
      "metadata": {
        "id": "9_zPzRbE8U6B",
        "colab_type": "code",
        "outputId": "441aacf7-07f5-444a-bc6c-e0a5395a59de",
        "colab": {
          "base_uri": "https://localhost:8080/",
          "height": 85
        }
      },
      "cell_type": "code",
      "source": [
        "nltk.download('stopwords')\n",
        "nltk.download('vader_lexicon')"
      ],
      "execution_count": 2,
      "outputs": [
        {
          "output_type": "stream",
          "text": [
            "[nltk_data] Downloading package stopwords to /root/nltk_data...\n",
            "[nltk_data]   Package stopwords is already up-to-date!\n",
            "[nltk_data] Downloading package vader_lexicon to /root/nltk_data...\n"
          ],
          "name": "stdout"
        },
        {
          "output_type": "execute_result",
          "data": {
            "text/plain": [
              "True"
            ]
          },
          "metadata": {
            "tags": []
          },
          "execution_count": 2
        }
      ]
    },
    {
      "metadata": {
        "id": "nxvDzTAuZDHw",
        "colab_type": "code",
        "outputId": "eac6284f-cd96-4caa-bc9a-6aa625fe3aea",
        "colab": {
          "base_uri": "https://localhost:8080/",
          "height": 34
        }
      },
      "cell_type": "code",
      "source": [
        "from google.colab import drive\n",
        "drive.mount('/content/gdrive')"
      ],
      "execution_count": 3,
      "outputs": [
        {
          "output_type": "stream",
          "text": [
            "Drive already mounted at /content/gdrive; to attempt to forcibly remount, call drive.mount(\"/content/gdrive\", force_remount=True).\n"
          ],
          "name": "stdout"
        }
      ]
    },
    {
      "metadata": {
        "id": "gFh5CgVLZNXn",
        "colab_type": "code",
        "colab": {}
      },
      "cell_type": "code",
      "source": [
        "df = pd.read_csv('/content/gdrive/My Drive/NLP/Womens Clothing E-Commerce Reviews.csv')"
      ],
      "execution_count": 0,
      "outputs": []
    },
    {
      "metadata": {
        "id": "_mP7CgrB48V9",
        "colab_type": "code",
        "colab": {}
      },
      "cell_type": "code",
      "source": [
        "df = df[df.Rating != 3] # We drop 3 as 3 is ambigious to predict"
      ],
      "execution_count": 0,
      "outputs": []
    },
    {
      "metadata": {
        "id": "bHRkBDJ0d1X6",
        "colab_type": "code",
        "colab": {}
      },
      "cell_type": "code",
      "source": [
        "for column in [\"Division Name\",\"Department Name\",\"Class Name\",\"Review Text\"]:\n",
        "    df = df[df[column].notnull()]\n",
        "df.drop(df.columns[0], inplace=True, axis=1)"
      ],
      "execution_count": 0,
      "outputs": []
    },
    {
      "metadata": {
        "id": "-p43Rg_pd2df",
        "colab_type": "code",
        "outputId": "ac13635c-fa56-4e60-ca77-1705a8eaee0f",
        "colab": {
          "base_uri": "https://localhost:8080/",
          "height": 34
        }
      },
      "cell_type": "code",
      "source": [
        "df.shape"
      ],
      "execution_count": 7,
      "outputs": [
        {
          "output_type": "execute_result",
          "data": {
            "text/plain": [
              "(19805, 10)"
            ]
          },
          "metadata": {
            "tags": []
          },
          "execution_count": 7
        }
      ]
    },
    {
      "metadata": {
        "id": "AKaMP2bg6bUW",
        "colab_type": "code",
        "colab": {}
      },
      "cell_type": "code",
      "source": [
        "df['Label'] = 0"
      ],
      "execution_count": 0,
      "outputs": []
    },
    {
      "metadata": {
        "id": "SzWLQpxxSpVN",
        "colab_type": "code",
        "colab": {}
      },
      "cell_type": "code",
      "source": [
        "df.loc[df.Rating >= 4, ['Label']] = 1"
      ],
      "execution_count": 0,
      "outputs": []
    },
    {
      "metadata": {
        "id": "PuPHoAIVgnhn",
        "colab_type": "code",
        "colab": {}
      },
      "cell_type": "code",
      "source": [
        "df['Word Count'] = df['Review Text'].str.split().apply(len)"
      ],
      "execution_count": 0,
      "outputs": []
    },
    {
      "metadata": {
        "id": "PfGeDnG3fP9Y",
        "colab_type": "code",
        "outputId": "916bb645-bafb-4c1b-cbfa-de85702a4026",
        "colab": {
          "base_uri": "https://localhost:8080/",
          "height": 210
        }
      },
      "cell_type": "code",
      "source": [
        "df.sample(3)"
      ],
      "execution_count": 11,
      "outputs": [
        {
          "output_type": "execute_result",
          "data": {
            "text/html": [
              "<div>\n",
              "<style scoped>\n",
              "    .dataframe tbody tr th:only-of-type {\n",
              "        vertical-align: middle;\n",
              "    }\n",
              "\n",
              "    .dataframe tbody tr th {\n",
              "        vertical-align: top;\n",
              "    }\n",
              "\n",
              "    .dataframe thead th {\n",
              "        text-align: right;\n",
              "    }\n",
              "</style>\n",
              "<table border=\"1\" class=\"dataframe\">\n",
              "  <thead>\n",
              "    <tr style=\"text-align: right;\">\n",
              "      <th></th>\n",
              "      <th>Clothing ID</th>\n",
              "      <th>Age</th>\n",
              "      <th>Title</th>\n",
              "      <th>Review Text</th>\n",
              "      <th>Rating</th>\n",
              "      <th>Recommended IND</th>\n",
              "      <th>Positive Feedback Count</th>\n",
              "      <th>Division Name</th>\n",
              "      <th>Department Name</th>\n",
              "      <th>Class Name</th>\n",
              "      <th>Label</th>\n",
              "      <th>Word Count</th>\n",
              "    </tr>\n",
              "  </thead>\n",
              "  <tbody>\n",
              "    <tr>\n",
              "      <th>17652</th>\n",
              "      <td>1131</td>\n",
              "      <td>61</td>\n",
              "      <td>Cute and fun!</td>\n",
              "      <td>I have been looking for a cute raincoat foreve...</td>\n",
              "      <td>4</td>\n",
              "      <td>1</td>\n",
              "      <td>0</td>\n",
              "      <td>General</td>\n",
              "      <td>Jackets</td>\n",
              "      <td>Outerwear</td>\n",
              "      <td>1</td>\n",
              "      <td>96</td>\n",
              "    </tr>\n",
              "    <tr>\n",
              "      <th>21638</th>\n",
              "      <td>1109</td>\n",
              "      <td>59</td>\n",
              "      <td>Elegant</td>\n",
              "      <td>Material is nice, great for a party or date ni...</td>\n",
              "      <td>4</td>\n",
              "      <td>1</td>\n",
              "      <td>1</td>\n",
              "      <td>General Petite</td>\n",
              "      <td>Dresses</td>\n",
              "      <td>Dresses</td>\n",
              "      <td>1</td>\n",
              "      <td>32</td>\n",
              "    </tr>\n",
              "    <tr>\n",
              "      <th>4674</th>\n",
              "      <td>871</td>\n",
              "      <td>63</td>\n",
              "      <td>Airy and feminine</td>\n",
              "      <td>Love the colors and design of this lace-printe...</td>\n",
              "      <td>4</td>\n",
              "      <td>1</td>\n",
              "      <td>18</td>\n",
              "      <td>General Petite</td>\n",
              "      <td>Tops</td>\n",
              "      <td>Knits</td>\n",
              "      <td>1</td>\n",
              "      <td>84</td>\n",
              "    </tr>\n",
              "  </tbody>\n",
              "</table>\n",
              "</div>"
            ],
            "text/plain": [
              "       Clothing ID  Age              Title  \\\n",
              "17652         1131   61      Cute and fun!   \n",
              "21638         1109   59            Elegant   \n",
              "4674           871   63  Airy and feminine   \n",
              "\n",
              "                                             Review Text  Rating  \\\n",
              "17652  I have been looking for a cute raincoat foreve...       4   \n",
              "21638  Material is nice, great for a party or date ni...       4   \n",
              "4674   Love the colors and design of this lace-printe...       4   \n",
              "\n",
              "       Recommended IND  Positive Feedback Count   Division Name  \\\n",
              "17652                1                        0         General   \n",
              "21638                1                        1  General Petite   \n",
              "4674                 1                       18  General Petite   \n",
              "\n",
              "      Department Name Class Name  Label  Word Count  \n",
              "17652         Jackets  Outerwear      1          96  \n",
              "21638         Dresses    Dresses      1          32  \n",
              "4674             Tops      Knits      1          84  "
            ]
          },
          "metadata": {
            "tags": []
          },
          "execution_count": 11
        }
      ]
    },
    {
      "metadata": {
        "id": "c-tdIFZX_Wgz",
        "colab_type": "text"
      },
      "cell_type": "markdown",
      "source": [
        "### Feature Engineering"
      ]
    },
    {
      "metadata": {
        "id": "TqHYLgVv_Vdm",
        "colab_type": "code",
        "colab": {}
      },
      "cell_type": "code",
      "source": [
        "reviews = df['Review Text'].astype(str).str.lower()"
      ],
      "execution_count": 0,
      "outputs": []
    },
    {
      "metadata": {
        "id": "5EEFDtFxjA4O",
        "colab_type": "code",
        "colab": {}
      },
      "cell_type": "code",
      "source": [
        "features = reviews.tolist()"
      ],
      "execution_count": 0,
      "outputs": []
    },
    {
      "metadata": {
        "id": "WG5EDkcWjA8R",
        "colab_type": "code",
        "outputId": "42869a10-8c90-42f3-9c85-79cdd000a5c0",
        "colab": {
          "base_uri": "https://localhost:8080/",
          "height": 88
        }
      },
      "cell_type": "code",
      "source": [
        "features[:3]"
      ],
      "execution_count": 14,
      "outputs": [
        {
          "output_type": "execute_result",
          "data": {
            "text/plain": [
              "['absolutely wonderful - silky and sexy and comfortable',\n",
              " 'love this dress!  it\\'s sooo pretty.  i happened to find it in a store, and i\\'m glad i did bc i never would have ordered it online bc it\\'s petite.  i bought a petite and am 5\\'8\".  i love the length on me- hits just a little below the knee.  would definitely be a true midi on someone who is truly petite.',\n",
              " \"i love, love, love this jumpsuit. it's fun, flirty, and fabulous! every time i wear it, i get nothing but great compliments!\"]"
            ]
          },
          "metadata": {
            "tags": []
          },
          "execution_count": 14
        }
      ]
    },
    {
      "metadata": {
        "id": "Z8I1Fs-o2DDX",
        "colab_type": "code",
        "colab": {}
      },
      "cell_type": "code",
      "source": [
        "import re # Provide regular expression matching operations\n",
        "from string import punctuation"
      ],
      "execution_count": 0,
      "outputs": []
    },
    {
      "metadata": {
        "id": "lLFD4MTn2DGn",
        "colab_type": "code",
        "colab": {}
      },
      "cell_type": "code",
      "source": [
        "for index in range(len(features)):\n",
        "    all_text = ''.join([character for character in features[index] if character not in punctuation]) # Remove punctuation and join remaining characters\n",
        "    features[index] = re.split(r'\\n|\\r', all_text) # Remove newline or carriage return\n",
        "    features[index] = ' '.join([word for word in features[index]])"
      ],
      "execution_count": 0,
      "outputs": []
    },
    {
      "metadata": {
        "id": "MOgBQqqX_VlS",
        "colab_type": "code",
        "outputId": "4c862833-6fad-4595-d00b-c5db72d234e2",
        "colab": {
          "base_uri": "https://localhost:8080/",
          "height": 88
        }
      },
      "cell_type": "code",
      "source": [
        "features[:3]"
      ],
      "execution_count": 17,
      "outputs": [
        {
          "output_type": "execute_result",
          "data": {
            "text/plain": [
              "['absolutely wonderful  silky and sexy and comfortable',\n",
              " 'love this dress  its sooo pretty  i happened to find it in a store and im glad i did bc i never would have ordered it online bc its petite  i bought a petite and am 58  i love the length on me hits just a little below the knee  would definitely be a true midi on someone who is truly petite',\n",
              " 'i love love love this jumpsuit its fun flirty and fabulous every time i wear it i get nothing but great compliments']"
            ]
          },
          "metadata": {
            "tags": []
          },
          "execution_count": 17
        }
      ]
    },
    {
      "metadata": {
        "colab_type": "code",
        "id": "vgGZeO_b_kmc",
        "outputId": "6d5e51b1-9a6b-4464-a020-35e3fe5c33b0",
        "colab": {
          "base_uri": "https://localhost:8080/",
          "height": 34
        }
      },
      "cell_type": "code",
      "source": [
        "from keras.preprocessing.sequence import pad_sequences\n",
        "from keras.preprocessing.text import Tokenizer"
      ],
      "execution_count": 18,
      "outputs": [
        {
          "output_type": "stream",
          "text": [
            "Using TensorFlow backend.\n"
          ],
          "name": "stderr"
        }
      ]
    },
    {
      "metadata": {
        "id": "U58HujoE7g-w",
        "colab_type": "code",
        "colab": {}
      },
      "cell_type": "code",
      "source": [
        "t = Tokenizer()\n",
        "t.fit_on_texts(features) # 将输入的文本中的每个词编号，编号是根据词频的，词频越大，编号越小\n",
        "vocabulary_size = len(t.word_index) + 1 # word_index 每个词的编号"
      ],
      "execution_count": 0,
      "outputs": []
    },
    {
      "metadata": {
        "id": "tfg4WB248z2X",
        "colab_type": "code",
        "outputId": "51294695-2c02-452a-8803-7821c65858ca",
        "colab": {
          "base_uri": "https://localhost:8080/",
          "height": 34
        }
      },
      "cell_type": "code",
      "source": [
        "print('Vocabulary size : {}'.format(vocabulary_size))"
      ],
      "execution_count": 20,
      "outputs": [
        {
          "output_type": "stream",
          "text": [
            "Vocabulary size : 18019\n"
          ],
          "name": "stdout"
        }
      ]
    },
    {
      "metadata": {
        "id": "MFFi6PCO8z58",
        "colab_type": "code",
        "colab": {}
      },
      "cell_type": "code",
      "source": [
        "encoded_features = t.texts_to_sequences(features) # 将文字转化成数字列表，使用每个词的编号进行编号\n",
        "\n",
        "max_length = 300\n",
        "\n",
        "padded_features = pad_sequences(encoded_features, maxlen=max_length, padding='post') # 将每条评论的长度设置一个固定值"
      ],
      "execution_count": 0,
      "outputs": []
    },
    {
      "metadata": {
        "id": "GkW_Sksp7KXy",
        "colab_type": "text"
      },
      "cell_type": "markdown",
      "source": [
        "### Sentimental Analysis"
      ]
    },
    {
      "metadata": {
        "id": "7Z0ZJieG7QU9",
        "colab_type": "code",
        "outputId": "809348e4-0d10-46b4-92d2-7800de1ffe58",
        "colab": {
          "base_uri": "https://localhost:8080/",
          "height": 71
        }
      },
      "cell_type": "code",
      "source": [
        "# from nltk.sentiment.vader import SentimentIntensityAnalyzer\n",
        "\n",
        "# # Pre-Processing\n",
        "# SIA = SentimentIntensityAnalyzer()\n",
        "# df['Review Text']= df['Review Text'].astype(str)\n",
        "\n",
        "# # Applying Model, Variable Creation\n",
        "# df['Polarity Score'] = df['Review Text'].apply(lambda x: SIA.polarity_scores(x)['compound'])\n",
        "# df['Negative Score'] = df['Review Text'].apply(lambda x: SIA.polarity_scores(x)['neg'])\n",
        "# df['Positive Score'] = df['Review Text'].apply(lambda x: SIA.polarity_scores(x)['pos'])\n",
        "\n",
        "# # Converting 0 to 1 Decimal Score to a Categorical Variable\n",
        "# df['Sentiment'] = ''\n",
        "# df.loc[df['Polarity Score'] > 0, 'Sentiment'] = 'Positive'\n",
        "# df.loc[df['Polarity Score'] < 0, 'Sentiment'] = 'Negative'"
      ],
      "execution_count": 0,
      "outputs": [
        {
          "output_type": "stream",
          "text": [
            "/usr/local/lib/python3.6/dist-packages/nltk/twitter/__init__.py:20: UserWarning: The twython library has not been installed. Some functionality from the twitter package will not be available.\n",
            "  warnings.warn(\"The twython library has not been installed. \"\n"
          ],
          "name": "stderr"
        }
      ]
    },
    {
      "metadata": {
        "id": "RoyOwQ1D7Qaz",
        "colab_type": "code",
        "colab": {}
      },
      "cell_type": "code",
      "source": [
        "labels = np.array(df['Label'])"
      ],
      "execution_count": 0,
      "outputs": []
    },
    {
      "metadata": {
        "id": "gfnlzh4C7QeY",
        "colab_type": "code",
        "outputId": "dcef8066-344b-45af-c7e5-d77d09943429",
        "colab": {
          "base_uri": "https://localhost:8080/",
          "height": 34
        }
      },
      "cell_type": "code",
      "source": [
        "labels"
      ],
      "execution_count": 24,
      "outputs": [
        {
          "output_type": "execute_result",
          "data": {
            "text/plain": [
              "array([1, 1, 1, ..., 1, 1, 1])"
            ]
          },
          "metadata": {
            "tags": []
          },
          "execution_count": 24
        }
      ]
    },
    {
      "metadata": {
        "id": "MvSb6xO97Qpi",
        "colab_type": "code",
        "colab": {}
      },
      "cell_type": "code",
      "source": [
        "# labels = np.array([1 if label == 'Positive' else 0 for label in labels], np.int)"
      ],
      "execution_count": 0,
      "outputs": []
    },
    {
      "metadata": {
        "id": "v8deMvEd7Qne",
        "colab_type": "code",
        "outputId": "3f64e866-af60-4a32-fcda-7335302a2800",
        "colab": {
          "base_uri": "https://localhost:8080/",
          "height": 34
        }
      },
      "cell_type": "code",
      "source": [
        "# labels"
      ],
      "execution_count": 0,
      "outputs": [
        {
          "output_type": "execute_result",
          "data": {
            "text/plain": [
              "array([1, 1, 1, ..., 1, 1, 1])"
            ]
          },
          "metadata": {
            "tags": []
          },
          "execution_count": 27
        }
      ]
    },
    {
      "metadata": {
        "id": "_tOyYq4G7Qkb",
        "colab_type": "code",
        "outputId": "2023fb8b-358a-4cd5-eb81-fd71be4ba940",
        "colab": {
          "base_uri": "https://localhost:8080/",
          "height": 571
        }
      },
      "cell_type": "code",
      "source": [
        "positive_class = int(labels[labels == 1].shape[0])\n",
        "negative_class = int(labels[labels == 0].shape[0])\n",
        "\n",
        "df = pd.DataFrame.from_dict({'positive': [positive_class], 'negative': [negative_class]})\n",
        "\n",
        "plt.figure(figsize=(8, 8))\n",
        "sns.set(font_scale=2)\n",
        "sns.set_style('whitegrid')\n",
        "ax = sns.barplot(data=df)\n",
        "ax = ax.set_xlabel('Frequency Distribution of Sentiment Classes')"
      ],
      "execution_count": 25,
      "outputs": [
        {
          "output_type": "stream",
          "text": [
            "/usr/local/lib/python3.6/dist-packages/seaborn/categorical.py:1428: FutureWarning: remove_na is deprecated and is a private function. Do not use.\n",
            "  stat_data = remove_na(group_data)\n"
          ],
          "name": "stderr"
        },
        {
          "output_type": "display_data",
          "data": {
            "image/png": "[encoded data removed]",
            "text/plain": [
              "<Figure size 576x576 with 1 Axes>"
            ]
          },
          "metadata": {
            "tags": []
          }
        }
      ]
    },
    {
      "metadata": {
        "id": "Js9yiExoKMxP",
        "colab_type": "code",
        "colab": {}
      },
      "cell_type": "code",
      "source": [
        "from keras.utils import to_categorical\n",
        "labels = to_categorical(labels)"
      ],
      "execution_count": 0,
      "outputs": []
    },
    {
      "metadata": {
        "id": "Qjt4VE5yPsbT",
        "colab_type": "code",
        "outputId": "5d8a27db-13be-4893-b329-dfcb646c0401",
        "colab": {
          "base_uri": "https://localhost:8080/",
          "height": 187
        }
      },
      "cell_type": "code",
      "source": [
        "labels[:10]"
      ],
      "execution_count": 27,
      "outputs": [
        {
          "output_type": "execute_result",
          "data": {
            "text/plain": [
              "array([[0., 1.],\n",
              "       [0., 1.],\n",
              "       [0., 1.],\n",
              "       [0., 1.],\n",
              "       [1., 0.],\n",
              "       [0., 1.],\n",
              "       [0., 1.],\n",
              "       [0., 1.],\n",
              "       [0., 1.],\n",
              "       [0., 1.]], dtype=float32)"
            ]
          },
          "metadata": {
            "tags": []
          },
          "execution_count": 27
        }
      ]
    },
    {
      "metadata": {
        "id": "ldAUkaCU_VoK",
        "colab_type": "code",
        "outputId": "0b31ef03-5d3f-478a-cf9c-35741a417ca7",
        "colab": {
          "base_uri": "https://localhost:8080/",
          "height": 34
        }
      },
      "cell_type": "code",
      "source": [
        "embeddings_index = dict()\n",
        "with open('/content/gdrive/My Drive/NLP/glove.840B.300d.txt') as file:\n",
        "    data = file.readlines()\n",
        "    \n",
        "# store <key, value> pair of FastText vectors\n",
        "for line in data[1:]:\n",
        "    word, vec = line.split(' ', 1)\n",
        "    embeddings_index[word] = np.array([float(index) for index in vec.split()], dtype='float32')\n",
        "print('Loaded {} word vectors.'.format(len(embeddings_index)))\n",
        "\n",
        "\n",
        "embedding_matrix = np.zeros((vocabulary_size, max_length))\n",
        "for word, i in t.word_index.items():\n",
        "    embedding_vector = embeddings_index.get(word)\n",
        "    if embedding_vector is not None:\n",
        "        embedding_matrix[i] = embedding_vector"
      ],
      "execution_count": 28,
      "outputs": [
        {
          "output_type": "stream",
          "text": [
            "Loaded 2196016 word vectors.\n"
          ],
          "name": "stdout"
        }
      ]
    },
    {
      "metadata": {
        "id": "0ZnYIwR99WsU",
        "colab_type": "code",
        "colab": {}
      },
      "cell_type": "code",
      "source": [
        "words = []\n",
        "for word, i in t.word_index.items():\n",
        "    embedding_vector = embeddings_index.get(word)\n",
        "    if embedding_vector is not None:\n",
        "        words.append(word)"
      ],
      "execution_count": 0,
      "outputs": []
    },
    {
      "metadata": {
        "id": "UHBviVb89WvT",
        "colab_type": "code",
        "outputId": "e03ae7ac-412d-4afd-b07e-ddfa73e22262",
        "colab": {
          "base_uri": "https://localhost:8080/",
          "height": 34
        }
      },
      "cell_type": "code",
      "source": [
        "print('{} words covered.'.format(len(words)))\n"
      ],
      "execution_count": 30,
      "outputs": [
        {
          "output_type": "stream",
          "text": [
            "13135 words covered.\n"
          ],
          "name": "stdout"
        }
      ]
    },
    {
      "metadata": {
        "id": "cVSbntdgVae0",
        "colab_type": "code",
        "outputId": "260767a1-e261-4aae-cbb6-f612286cedae",
        "colab": {
          "base_uri": "https://localhost:8080/",
          "height": 34
        }
      },
      "cell_type": "code",
      "source": [
        "percentage = (len(words) / vocabulary_size) * 100.00\n",
        "print('{}% of {} words were covered'.format(percentage, vocabulary_size))"
      ],
      "execution_count": 31,
      "outputs": [
        {
          "output_type": "stream",
          "text": [
            "72.8952772073922% of 18019 words were covered\n"
          ],
          "name": "stdout"
        }
      ]
    },
    {
      "metadata": {
        "id": "kUhAGwCsCsaA",
        "colab_type": "code",
        "colab": {}
      },
      "cell_type": "code",
      "source": [
        "def train_test_split(features, labels, **kwargs):\n",
        "    \n",
        "    # concatenate the features and labels array\n",
        "    dataset = np.c_[features, labels]\n",
        "\n",
        "    # shuffle the dataset\n",
        "    np.random.shuffle(dataset)\n",
        "\n",
        "    # split the dataset into features, labels\n",
        "    features, labels = dataset[:, 0:max_length], dataset[:, max_length:]\n",
        "\n",
        "    # get the split size for training dataset\n",
        "    split_index = int(kwargs['train_size'] * len(features))\n",
        "\n",
        "    # split the dataset into training/validation dataset\n",
        "    train_features, validation_features = features[:split_index], features[split_index:]\n",
        "    train_labels, validation_labels = labels[:split_index], labels[split_index:]\n",
        "\n",
        "    # get the split size for validation dataset\n",
        "    split_index = int(kwargs['validation_size'] * len(validation_features))\n",
        "\n",
        "    # split the validation dataset into validation/testing dataset\n",
        "    validation_features, test_features = validation_features[:split_index], validation_features[split_index:]\n",
        "    validation_labels, test_labels = validation_labels[:split_index], validation_labels[split_index:]\n",
        "\n",
        "    # return the partitioned dataset\n",
        "    return [train_features, train_labels], [validation_features, validation_labels], [test_features, test_labels]"
      ],
      "execution_count": 0,
      "outputs": []
    },
    {
      "metadata": {
        "id": "5GZwftNhAtxq",
        "colab_type": "code",
        "colab": {}
      },
      "cell_type": "code",
      "source": [
        "train_dataset, validation_dataset, test_dataset = train_test_split(features=padded_features, labels=labels,\n",
        "                                                                   train_size=0.60, validation_size=0.50)"
      ],
      "execution_count": 0,
      "outputs": []
    },
    {
      "metadata": {
        "id": "y5Av9YR1_Vxv",
        "colab_type": "code",
        "outputId": "bffd6271-5616-485f-83b9-ccb847f2594b",
        "colab": {
          "base_uri": "https://localhost:8080/",
          "height": 85
        }
      },
      "cell_type": "code",
      "source": [
        "print('Dataset size : {}'.format(padded_features.shape[0]))\n",
        "print('Train dataset size : {}'.format(train_dataset[0].shape[0]))\n",
        "print('Validation dataset size : {}'.format(validation_dataset[0].shape[0]))\n",
        "print('Test dataset size : {}'.format(test_dataset[0].shape[0]))"
      ],
      "execution_count": 34,
      "outputs": [
        {
          "output_type": "stream",
          "text": [
            "Dataset size : 19805\n",
            "Train dataset size : 11883\n",
            "Validation dataset size : 3961\n",
            "Test dataset size : 3961\n"
          ],
          "name": "stdout"
        }
      ]
    },
    {
      "metadata": {
        "id": "eLX9BtE4--gz",
        "colab_type": "code",
        "colab": {}
      },
      "cell_type": "code",
      "source": [
        "from keras import callbacks\n",
        "from keras.layers import Bidirectional\n",
        "from keras.layers import Dense\n",
        "from keras.layers import Dropout\n",
        "from keras.layers import Embedding\n",
        "from keras.layers import LSTM\n",
        "from keras.models import Sequential\n",
        "from sklearn.model_selection import StratifiedKFold"
      ],
      "execution_count": 0,
      "outputs": []
    },
    {
      "metadata": {
        "id": "xdTLaQjg--j7",
        "colab_type": "code",
        "outputId": "7b166d04-399b-4b02-818e-0d76620f5c00",
        "colab": {
          "base_uri": "https://localhost:8080/",
          "height": 1329
        }
      },
      "cell_type": "code",
      "source": [
        "model = Sequential()\n",
        "e = Embedding(vocabulary_size, max_length,\n",
        "              weights=[embedding_matrix], input_length=max_length, trainable=False)\n",
        "model.add(e)\n",
        "model.add(Bidirectional(LSTM(256), merge_mode='sum'))\n",
        "model.add(Dropout(0.50))\n",
        "model.add(Dense(2, activation='softmax'))\n",
        "model.compile(loss='categorical_crossentropy', optimizer='adam', metrics=['accuracy'])\n",
        "\n",
        "model.fit(train_dataset[0], train_dataset[1], epochs=32, batch_size=256, verbose=1,\n",
        "          validation_data=(validation_dataset[0], validation_dataset[1]))\n",
        "\n",
        "score = model.evaluate(test_dataset[0], test_dataset[1], verbose=1)\n",
        "\n",
        "print('loss : {}, acc : {}'.format(score[0], score[1]))"
      ],
      "execution_count": 36,
      "outputs": [
        {
          "output_type": "stream",
          "text": [
            "WARNING:tensorflow:From /usr/local/lib/python3.6/dist-packages/tensorflow/python/framework/op_def_library.py:263: colocate_with (from tensorflow.python.framework.ops) is deprecated and will be removed in a future version.\n",
            "Instructions for updating:\n",
            "Colocations handled automatically by placer.\n",
            "WARNING:tensorflow:From /usr/local/lib/python3.6/dist-packages/keras/backend/tensorflow_backend.py:3445: calling dropout (from tensorflow.python.ops.nn_ops) with keep_prob is deprecated and will be removed in a future version.\n",
            "Instructions for updating:\n",
            "Please use `rate` instead of `keep_prob`. Rate should be set to `rate = 1 - keep_prob`.\n",
            "WARNING:tensorflow:From /usr/local/lib/python3.6/dist-packages/tensorflow/python/ops/math_ops.py:3066: to_int32 (from tensorflow.python.ops.math_ops) is deprecated and will be removed in a future version.\n",
            "Instructions for updating:\n",
            "Use tf.cast instead.\n",
            "Train on 11883 samples, validate on 3961 samples\n",
            "Epoch 1/32\n",
            "11883/11883 [==============================] - 71s 6ms/step - loss: 0.3651 - acc: 0.8733 - val_loss: 0.3024 - val_acc: 0.8798\n",
            "Epoch 2/32\n",
            "11883/11883 [==============================] - 68s 6ms/step - loss: 0.2945 - acc: 0.8773 - val_loss: 0.3449 - val_acc: 0.8798\n",
            "Epoch 3/32\n",
            "11883/11883 [==============================] - 68s 6ms/step - loss: 0.2520 - acc: 0.8942 - val_loss: 0.2205 - val_acc: 0.9116\n",
            "Epoch 4/32\n",
            "11883/11883 [==============================] - 67s 6ms/step - loss: 0.2167 - acc: 0.9126 - val_loss: 0.2522 - val_acc: 0.8871\n",
            "Epoch 5/32\n",
            "11883/11883 [==============================] - 68s 6ms/step - loss: 0.1997 - acc: 0.9191 - val_loss: 0.1931 - val_acc: 0.9212\n",
            "Epoch 6/32\n",
            "11883/11883 [==============================] - 68s 6ms/step - loss: 0.1905 - acc: 0.9233 - val_loss: 0.1963 - val_acc: 0.9094\n",
            "Epoch 7/32\n",
            "11883/11883 [==============================] - 68s 6ms/step - loss: 0.1774 - acc: 0.9300 - val_loss: 0.1749 - val_acc: 0.9296\n",
            "Epoch 8/32\n",
            "11883/11883 [==============================] - 68s 6ms/step - loss: 0.1584 - acc: 0.9365 - val_loss: 0.2100 - val_acc: 0.9200\n",
            "Epoch 9/32\n",
            "11883/11883 [==============================] - 68s 6ms/step - loss: 0.1514 - acc: 0.9408 - val_loss: 0.1671 - val_acc: 0.9341\n",
            "Epoch 10/32\n",
            "11883/11883 [==============================] - 68s 6ms/step - loss: 0.1422 - acc: 0.9447 - val_loss: 0.1580 - val_acc: 0.9371\n",
            "Epoch 11/32\n",
            "11883/11883 [==============================] - 68s 6ms/step - loss: 0.1262 - acc: 0.9532 - val_loss: 0.1711 - val_acc: 0.9341\n",
            "Epoch 12/32\n",
            "11883/11883 [==============================] - 67s 6ms/step - loss: 0.1104 - acc: 0.9582 - val_loss: 0.1778 - val_acc: 0.9270\n",
            "Epoch 13/32\n",
            "11883/11883 [==============================] - 68s 6ms/step - loss: 0.1072 - acc: 0.9597 - val_loss: 0.1624 - val_acc: 0.9364\n",
            "Epoch 14/32\n",
            "11883/11883 [==============================] - 68s 6ms/step - loss: 0.0908 - acc: 0.9668 - val_loss: 0.2336 - val_acc: 0.9258\n",
            "Epoch 15/32\n",
            "11883/11883 [==============================] - 68s 6ms/step - loss: 0.0851 - acc: 0.9684 - val_loss: 0.2347 - val_acc: 0.9349\n",
            "Epoch 16/32\n",
            "11883/11883 [==============================] - 68s 6ms/step - loss: 0.0627 - acc: 0.9785 - val_loss: 0.2299 - val_acc: 0.9331\n",
            "Epoch 17/32\n",
            "11883/11883 [==============================] - 68s 6ms/step - loss: 0.0562 - acc: 0.9811 - val_loss: 0.2050 - val_acc: 0.9339\n",
            "Epoch 18/32\n",
            "11883/11883 [==============================] - 68s 6ms/step - loss: 0.0504 - acc: 0.9828 - val_loss: 0.2043 - val_acc: 0.9311\n",
            "Epoch 19/32\n",
            "11883/11883 [==============================] - 67s 6ms/step - loss: 0.0304 - acc: 0.9899 - val_loss: 0.2380 - val_acc: 0.9364\n",
            "Epoch 20/32\n",
            "11883/11883 [==============================] - 68s 6ms/step - loss: 0.0265 - acc: 0.9911 - val_loss: 0.2587 - val_acc: 0.9361\n",
            "Epoch 21/32\n",
            "11883/11883 [==============================] - 68s 6ms/step - loss: 0.0171 - acc: 0.9945 - val_loss: 0.2585 - val_acc: 0.9376\n",
            "Epoch 22/32\n",
            "11883/11883 [==============================] - 67s 6ms/step - loss: 0.0263 - acc: 0.9925 - val_loss: 0.2503 - val_acc: 0.9394\n",
            "Epoch 23/32\n",
            "11883/11883 [==============================] - 67s 6ms/step - loss: 0.0199 - acc: 0.9939 - val_loss: 0.2808 - val_acc: 0.9376\n",
            "Epoch 24/32\n",
            "11883/11883 [==============================] - 68s 6ms/step - loss: 0.0088 - acc: 0.9979 - val_loss: 0.3319 - val_acc: 0.9202\n",
            "Epoch 25/32\n",
            "11883/11883 [==============================] - 67s 6ms/step - loss: 0.0146 - acc: 0.9950 - val_loss: 0.3160 - val_acc: 0.9132\n",
            "Epoch 26/32\n",
            "11883/11883 [==============================] - 68s 6ms/step - loss: 0.0207 - acc: 0.9933 - val_loss: 0.2919 - val_acc: 0.9296\n",
            "Epoch 27/32\n",
            "11883/11883 [==============================] - 68s 6ms/step - loss: 0.0076 - acc: 0.9981 - val_loss: 0.3597 - val_acc: 0.9328\n",
            "Epoch 28/32\n",
            "11883/11883 [==============================] - 67s 6ms/step - loss: 0.0033 - acc: 0.9996 - val_loss: 0.3790 - val_acc: 0.9323\n",
            "Epoch 29/32\n",
            "11883/11883 [==============================] - 68s 6ms/step - loss: 0.0012 - acc: 0.9999 - val_loss: 0.4243 - val_acc: 0.9361\n",
            "Epoch 30/32\n",
            "11883/11883 [==============================] - 68s 6ms/step - loss: 0.0025 - acc: 0.9995 - val_loss: 0.3664 - val_acc: 0.9321\n",
            "Epoch 31/32\n",
            "11883/11883 [==============================] - 68s 6ms/step - loss: 0.0056 - acc: 0.9989 - val_loss: 0.3661 - val_acc: 0.9336\n",
            "Epoch 32/32\n",
            "11883/11883 [==============================] - 68s 6ms/step - loss: 0.0026 - acc: 0.9995 - val_loss: 0.4121 - val_acc: 0.9356\n",
            "3961/3961 [==============================] - 59s 15ms/step\n",
            "loss : 0.44432474959626883, acc : 0.9283009342128837\n"
          ],
          "name": "stdout"
        }
      ]
    },
    {
      "metadata": {
        "id": "xKu8c2Gee20Y",
        "colab_type": "code",
        "colab": {}
      },
      "cell_type": "code",
      "source": [
        "import pickle\n",
        "pkl_filename = \"/content/gdrive/My Drive/NLP/RNN_Rating.pkl\"  \n",
        "with open(pkl_filename, 'wb') as file:  \n",
        "    pickle.dump(model, file)"
      ],
      "execution_count": 0,
      "outputs": []
    },
    {
      "metadata": {
        "id": "6pNhagdf--m9",
        "colab_type": "code",
        "colab": {}
      },
      "cell_type": "code",
      "source": [
        "from sklearn.metrics import classification_report\n",
        "from sklearn.metrics import confusion_matrix\n",
        "\n",
        "test_predictions = model.predict(test_dataset[0])\n",
        "test_predictions = np.argmax(test_predictions, axis=1)\n",
        "\n",
        "class_names = ['(0) Negative class', '(1) Positive class']\n",
        "report = classification_report(np.argmax(test_dataset[1], axis=1), test_predictions, target_names=class_names)"
      ],
      "execution_count": 0,
      "outputs": []
    },
    {
      "metadata": {
        "id": "4pQeK_kp--p0",
        "colab_type": "code",
        "outputId": "bdd254a2-9cdc-4fe8-960c-4531ce69db4d",
        "colab": {
          "base_uri": "https://localhost:8080/",
          "height": 170
        }
      },
      "cell_type": "code",
      "source": [
        "print(report)"
      ],
      "execution_count": 39,
      "outputs": [
        {
          "output_type": "stream",
          "text": [
            "                    precision    recall  f1-score   support\n",
            "\n",
            "(0) Negative class       0.77      0.58      0.66       475\n",
            "(1) Positive class       0.94      0.98      0.96      3486\n",
            "\n",
            "         micro avg       0.93      0.93      0.93      3961\n",
            "         macro avg       0.86      0.78      0.81      3961\n",
            "      weighted avg       0.92      0.93      0.92      3961\n",
            "\n"
          ],
          "name": "stdout"
        }
      ]
    },
    {
      "metadata": {
        "id": "8kkVQXBY--tG",
        "colab_type": "code",
        "outputId": "a3bc19d3-2db5-4c9c-a268-86a796049486",
        "colab": {
          "base_uri": "https://localhost:8080/",
          "height": 51
        }
      },
      "cell_type": "code",
      "source": [
        "conf_matrix = confusion_matrix(np.argmax(test_dataset[1], axis=1), test_predictions)\n",
        "print(conf_matrix)"
      ],
      "execution_count": 40,
      "outputs": [
        {
          "output_type": "stream",
          "text": [
            "[[ 275  200]\n",
            " [  84 3402]]\n"
          ],
          "name": "stdout"
        }
      ]
    },
    {
      "metadata": {
        "id": "YUslddH3-8Uj",
        "colab_type": "code",
        "outputId": "10349ae5-1a5e-4cf9-cac1-86ce03bfa9ae",
        "colab": {
          "base_uri": "https://localhost:8080/",
          "height": 509
        }
      },
      "cell_type": "code",
      "source": [
        "plt.figure(figsize=(8, 8))\n",
        "plt.savefig('conf_matrix_sentiment.png', format='png', dpi=300)\n",
        "sns.heatmap(conf_matrix, annot=True, annot_kws={'size': 16}, cmap='coolwarm', fmt='.2f')"
      ],
      "execution_count": 41,
      "outputs": [
        {
          "output_type": "execute_result",
          "data": {
            "text/plain": [
              "<matplotlib.axes._subplots.AxesSubplot at 0x7fbcc4309470>"
            ]
          },
          "metadata": {
            "tags": []
          },
          "execution_count": 41
        },
        {
          "output_type": "display_data",
          "data": {
            "image/png": "[encoded data removed]",
            "text/plain": [
              "<Figure size 576x576 with 2 Axes>"
            ]
          },
          "metadata": {
            "tags": []
          }
        }
      ]
    },
    {
      "metadata": {
        "id": "pbHcCNyHh7Uj",
        "colab_type": "code",
        "outputId": "8956c872-bab9-43fd-ef40-332856d7049b",
        "colab": {
          "base_uri": "https://localhost:8080/",
          "height": 34
        }
      },
      "cell_type": "code",
      "source": [
        "from sklearn.metrics import roc_auc_score\n",
        "\n",
        "roc = roc_auc_score(y_score=test_predictions, y_true=np.argmax(test_dataset[1], 1))\n",
        "print(roc)"
      ],
      "execution_count": 42,
      "outputs": [
        {
          "output_type": "stream",
          "text": [
            "0.7774254914394421\n"
          ],
          "name": "stdout"
        }
      ]
    },
    {
      "metadata": {
        "id": "D8p8tWjQh7tC",
        "colab_type": "code",
        "outputId": "bdd78fad-1e08-4e10-8a21-7a30becdc320",
        "colab": {
          "base_uri": "https://localhost:8080/",
          "height": 34
        }
      },
      "cell_type": "code",
      "source": [
        "from sklearn.metrics import auc\n",
        "from sklearn.metrics import roc_curve\n",
        "\n",
        "fpr, tpr, _ = roc_curve(np.argmax(test_dataset[1], 1), test_predictions)\n",
        "roc_auc = auc(fpr, tpr)\n",
        "print(roc_auc)"
      ],
      "execution_count": 43,
      "outputs": [
        {
          "output_type": "stream",
          "text": [
            "0.7774254914394421\n"
          ],
          "name": "stdout"
        }
      ]
    },
    {
      "metadata": {
        "id": "EosuiV8jh9fH",
        "colab_type": "code",
        "outputId": "6981364b-8acc-4311-e899-365f5eb67953",
        "colab": {
          "base_uri": "https://localhost:8080/",
          "height": 485
        }
      },
      "cell_type": "code",
      "source": [
        "plt.figure(figsize=(10, 7))\n",
        "plt.plot(fpr, tpr, lw=2, color='darkorange', label='ROC curve (area = %0.2f)' % roc_auc)\n",
        "plt.plot([0, 1], [0, 1], color='navy', lw=2, linestyle='--')\n",
        "plt.xlim([0.0, 1.0])\n",
        "plt.ylim([0.0, 1.05])\n",
        "plt.xlabel('False Positive Rate')\n",
        "plt.ylabel('True Positive Rate')\n",
        "plt.title('Receiver operating characteristic example')\n",
        "plt.legend(loc='lower right', fontsize=16)\n",
        "plt.savefig('roc.png', format='png', dpi=300)\n",
        "plt.show()"
      ],
      "execution_count": 44,
      "outputs": [
        {
          "output_type": "display_data",
          "data": {
            "image/png": "[encoded data removed]",
            "text/plain": [
              "<Figure size 720x504 with 1 Axes>"
            ]
          },
          "metadata": {
            "tags": []
          }
        }
      ]
    }
  ]
}