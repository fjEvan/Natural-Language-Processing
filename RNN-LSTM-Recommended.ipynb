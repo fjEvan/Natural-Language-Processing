{
  "nbformat": 4,
  "nbformat_minor": 0,
  "metadata": {
    "colab": {
      "name": "NLP - RNN with LSTM (Recommended).ipynb",
      "version": "0.3.2",
      "provenance": [],
      "collapsed_sections": []
    },
    "kernelspec": {
      "name": "python3",
      "display_name": "Python 3"
    },
    "accelerator": "GPU"
  },
  "cells": [
    {
      "metadata": {
        "id": "yH2wvtEJY5Gm",
        "colab_type": "code",
        "colab": {}
      },
      "cell_type": "code",
      "source": [
        "import matplotlib.pyplot as plt\n",
        "import nltk\n",
        "import numpy as np\n",
        "import pandas as pd\n",
        "import seaborn as sns"
      ],
      "execution_count": 0,
      "outputs": []
    },
    {
      "metadata": {
        "id": "NiITi9ahGdEQ",
        "colab_type": "code",
        "outputId": "ac9f1dea-bba8-4019-ec83-ed5b7bd02482",
        "colab": {
          "base_uri": "https://localhost:8080/",
          "height": 68
        }
      },
      "cell_type": "code",
      "source": [
        "nltk.download('stopwords')"
      ],
      "execution_count": 0,
      "outputs": [
        {
          "output_type": "stream",
          "text": [
            "[nltk_data] Downloading package stopwords to /root/nltk_data...\n",
            "[nltk_data]   Package stopwords is already up-to-date!\n"
          ],
          "name": "stdout"
        },
        {
          "output_type": "execute_result",
          "data": {
            "text/plain": [
              "True"
            ]
          },
          "metadata": {
            "tags": []
          },
          "execution_count": 20
        }
      ]
    },
    {
      "metadata": {
        "id": "nxvDzTAuZDHw",
        "colab_type": "code",
        "outputId": "6aa961e0-42d4-4a2d-da40-6fbad53e0144",
        "colab": {
          "base_uri": "https://localhost:8080/",
          "height": 34
        }
      },
      "cell_type": "code",
      "source": [
        "from google.colab import drive\n",
        "drive.mount('/content/gdrive')"
      ],
      "execution_count": 0,
      "outputs": [
        {
          "output_type": "stream",
          "text": [
            "Drive already mounted at /content/gdrive; to attempt to forcibly remount, call drive.mount(\"/content/gdrive\", force_remount=True).\n"
          ],
          "name": "stdout"
        }
      ]
    },
    {
      "metadata": {
        "id": "gFh5CgVLZNXn",
        "colab_type": "code",
        "colab": {}
      },
      "cell_type": "code",
      "source": [
        "df = pd.read_csv('/content/gdrive/My Drive/NLP/Womens Clothing E-Commerce Reviews.csv')"
      ],
      "execution_count": 0,
      "outputs": []
    },
    {
      "metadata": {
        "id": "bHRkBDJ0d1X6",
        "colab_type": "code",
        "colab": {}
      },
      "cell_type": "code",
      "source": [
        "for column in [\"Division Name\",\"Department Name\",\"Class Name\",\"Review Text\"]:\n",
        "    df = df[df[column].notnull()]\n",
        "df.drop(df.columns[0], inplace=True, axis=1)"
      ],
      "execution_count": 0,
      "outputs": []
    },
    {
      "metadata": {
        "id": "-p43Rg_pd2df",
        "colab_type": "code",
        "outputId": "3e26fd44-b75e-471f-c101-7c4635834de5",
        "colab": {
          "base_uri": "https://localhost:8080/",
          "height": 34
        }
      },
      "cell_type": "code",
      "source": [
        "df.shape"
      ],
      "execution_count": 0,
      "outputs": [
        {
          "output_type": "execute_result",
          "data": {
            "text/plain": [
              "(22628, 10)"
            ]
          },
          "metadata": {
            "tags": []
          },
          "execution_count": 24
        }
      ]
    },
    {
      "metadata": {
        "id": "PuPHoAIVgnhn",
        "colab_type": "code",
        "colab": {}
      },
      "cell_type": "code",
      "source": [
        "df['Word Count'] = df['Review Text'].str.split().apply(len)"
      ],
      "execution_count": 0,
      "outputs": []
    },
    {
      "metadata": {
        "id": "PfGeDnG3fP9Y",
        "colab_type": "code",
        "outputId": "402cc997-0711-404e-fd2c-278d7e9c0348",
        "colab": {
          "base_uri": "https://localhost:8080/",
          "height": 485
        }
      },
      "cell_type": "code",
      "source": [
        "df.sample(3)"
      ],
      "execution_count": 0,
      "outputs": [
        {
          "output_type": "execute_result",
          "data": {
            "text/html": [
              "<div>\n",
              "<style scoped>\n",
              "    .dataframe tbody tr th:only-of-type {\n",
              "        vertical-align: middle;\n",
              "    }\n",
              "\n",
              "    .dataframe tbody tr th {\n",
              "        vertical-align: top;\n",
              "    }\n",
              "\n",
              "    .dataframe thead th {\n",
              "        text-align: right;\n",
              "    }\n",
              "</style>\n",
              "<table border=\"1\" class=\"dataframe\">\n",
              "  <thead>\n",
              "    <tr style=\"text-align: right;\">\n",
              "      <th></th>\n",
              "      <th>Clothing ID</th>\n",
              "      <th>Age</th>\n",
              "      <th>Title</th>\n",
              "      <th>Review Text</th>\n",
              "      <th>Rating</th>\n",
              "      <th>Recommended IND</th>\n",
              "      <th>Positive Feedback Count</th>\n",
              "      <th>Division Name</th>\n",
              "      <th>Department Name</th>\n",
              "      <th>Class Name</th>\n",
              "      <th>Word Count</th>\n",
              "    </tr>\n",
              "  </thead>\n",
              "  <tbody>\n",
              "    <tr>\n",
              "      <th>23051</th>\n",
              "      <td>643</td>\n",
              "      <td>44</td>\n",
              "      <td>Amazing!</td>\n",
              "      <td>I can't say enough about this jumpsuit. within...</td>\n",
              "      <td>5</td>\n",
              "      <td>1</td>\n",
              "      <td>1</td>\n",
              "      <td>General</td>\n",
              "      <td>Trend</td>\n",
              "      <td>Trend</td>\n",
              "      <td>29</td>\n",
              "    </tr>\n",
              "    <tr>\n",
              "      <th>10694</th>\n",
              "      <td>1083</td>\n",
              "      <td>25</td>\n",
              "      <td>This dress makes me look 20 years younger</td>\n",
              "      <td>I disagree with reviewers who said the dress l...</td>\n",
              "      <td>5</td>\n",
              "      <td>1</td>\n",
              "      <td>2</td>\n",
              "      <td>General</td>\n",
              "      <td>Dresses</td>\n",
              "      <td>Dresses</td>\n",
              "      <td>94</td>\n",
              "    </tr>\n",
              "    <tr>\n",
              "      <th>10781</th>\n",
              "      <td>864</td>\n",
              "      <td>62</td>\n",
              "      <td>Feminine and pretty!</td>\n",
              "      <td>Love this top. have two of them. they are comf...</td>\n",
              "      <td>5</td>\n",
              "      <td>1</td>\n",
              "      <td>0</td>\n",
              "      <td>General</td>\n",
              "      <td>Tops</td>\n",
              "      <td>Knits</td>\n",
              "      <td>15</td>\n",
              "    </tr>\n",
              "  </tbody>\n",
              "</table>\n",
              "</div>"
            ],
            "text/plain": [
              "       Clothing ID  Age                                      Title  \\\n",
              "23051          643   44                                   Amazing!   \n",
              "10694         1083   25  This dress makes me look 20 years younger   \n",
              "10781          864   62                       Feminine and pretty!   \n",
              "\n",
              "                                             Review Text  Rating  \\\n",
              "23051  I can't say enough about this jumpsuit. within...       5   \n",
              "10694  I disagree with reviewers who said the dress l...       5   \n",
              "10781  Love this top. have two of them. they are comf...       5   \n",
              "\n",
              "       Recommended IND  Positive Feedback Count Division Name Department Name  \\\n",
              "23051                1                        1       General           Trend   \n",
              "10694                1                        2       General         Dresses   \n",
              "10781                1                        0       General            Tops   \n",
              "\n",
              "      Class Name  Word Count  \n",
              "23051      Trend          29  \n",
              "10694    Dresses          94  \n",
              "10781      Knits          15  "
            ]
          },
          "metadata": {
            "tags": []
          },
          "execution_count": 27
        }
      ]
    },
    {
      "metadata": {
        "id": "QyUfr6l7iDdm",
        "colab_type": "code",
        "outputId": "437e501c-b526-4076-c5ad-94e2057ed8e4",
        "colab": {
          "base_uri": "https://localhost:8080/",
          "height": 34
        }
      },
      "cell_type": "code",
      "source": [
        "df.loc[df['Recommended IND'] == 0].shape"
      ],
      "execution_count": 0,
      "outputs": [
        {
          "output_type": "execute_result",
          "data": {
            "text/plain": [
              "(4101, 11)"
            ]
          },
          "metadata": {
            "tags": []
          },
          "execution_count": 32
        }
      ]
    },
    {
      "metadata": {
        "id": "W6TV2aaDi30D",
        "colab_type": "text"
      },
      "cell_type": "markdown",
      "source": [
        "### Recommendation"
      ]
    },
    {
      "metadata": {
        "id": "aYvBd3pVi2p3",
        "colab_type": "code",
        "colab": {}
      },
      "cell_type": "code",
      "source": [
        "reviews = df['Review Text'].astype(str).str.lower()"
      ],
      "execution_count": 0,
      "outputs": []
    },
    {
      "metadata": {
        "id": "XLdbcjUpjAxX",
        "colab_type": "code",
        "outputId": "8829cc4d-401c-4814-ee27-f1eb7adda26c",
        "colab": {
          "base_uri": "https://localhost:8080/",
          "height": 34
        }
      },
      "cell_type": "code",
      "source": [
        "type(reviews)"
      ],
      "execution_count": 0,
      "outputs": [
        {
          "output_type": "execute_result",
          "data": {
            "text/plain": [
              "pandas.core.series.Series"
            ]
          },
          "metadata": {
            "tags": []
          },
          "execution_count": 9
        }
      ]
    },
    {
      "metadata": {
        "id": "5EEFDtFxjA4O",
        "colab_type": "code",
        "colab": {}
      },
      "cell_type": "code",
      "source": [
        "features = reviews.tolist()"
      ],
      "execution_count": 0,
      "outputs": []
    },
    {
      "metadata": {
        "id": "WG5EDkcWjA8R",
        "colab_type": "code",
        "outputId": "5c3394a8-2eda-4c6a-9bdf-ec6f03eb0db7",
        "colab": {
          "base_uri": "https://localhost:8080/",
          "height": 88
        }
      },
      "cell_type": "code",
      "source": [
        "features[:3]"
      ],
      "execution_count": 0,
      "outputs": [
        {
          "output_type": "execute_result",
          "data": {
            "text/plain": [
              "['absolutely wonderful - silky and sexy and comfortable',\n",
              " 'love this dress!  it\\'s sooo pretty.  i happened to find it in a store, and i\\'m glad i did bc i never would have ordered it online bc it\\'s petite.  i bought a petite and am 5\\'8\".  i love the length on me- hits just a little below the knee.  would definitely be a true midi on someone who is truly petite.',\n",
              " 'i had such high hopes for this dress and really wanted it to work for me. i initially ordered the petite small (my usual size) but i found this to be outrageously small. so small in fact that i could not zip it up! i reordered it in petite medium, which was just ok. overall, the top half was comfortable and fit nicely, but the bottom half had a very tight under layer and several somewhat cheap (net) over layers. imo, a major design flaw was the net over layer sewn directly into the zipper - it c']"
            ]
          },
          "metadata": {
            "tags": []
          },
          "execution_count": 11
        }
      ]
    },
    {
      "metadata": {
        "id": "Z8I1Fs-o2DDX",
        "colab_type": "code",
        "colab": {}
      },
      "cell_type": "code",
      "source": [
        "import re # Provide regular expression matching operations\n",
        "from string import punctuation"
      ],
      "execution_count": 0,
      "outputs": []
    },
    {
      "metadata": {
        "id": "lLFD4MTn2DGn",
        "colab_type": "code",
        "colab": {}
      },
      "cell_type": "code",
      "source": [
        "for index in range(len(features)):\n",
        "    all_text = ''.join([character for character in features[index] if character not in punctuation]) # Remove punctuation and join remaining characters\n",
        "    features[index] = re.split(r'\\n|\\r', all_text) # Remove newline or carriage return\n",
        "    features[index] = ' '.join([word for word in features[index]])"
      ],
      "execution_count": 0,
      "outputs": []
    },
    {
      "metadata": {
        "id": "4hSOf8lW5aBj",
        "colab_type": "text"
      },
      "cell_type": "markdown",
      "source": [
        "一个叫做“回车” `\\r`，告诉打字机把打印头定位在左边界；另一个叫做“换行” `\\n`，告诉打字机把纸向下移一行。\n",
        "\n",
        "\\\\\n",
        "\n",
        "Unix系统里，每行结尾只有`\\n`；Windows系统里面，每行结尾是`\\n\\r`；Mac系统里，每行结尾是`\\r`。一个直接后果是，Unix/Mac系统下的文件在Windows里打开的话，所有文字会变成一行；而Windows里的文件在Unix/Mac下打开的话，在每行的结尾可能会多出一个^M符号。\n",
        "\n",
        "\\\\\n",
        "\n",
        "c++语言编程时（windows系统）, `\\r` 就是return 回到 本行 行首 这就会把这一行以前的输出 覆盖掉, 如：\n",
        "```\n",
        "int main() {\n",
        "\n",
        "cout << \"hahaha\" << \"\\r\" << \"xixi\"}\n",
        "``` \n",
        "最后只显示 xixi 而 hahaha 背覆盖了\n",
        "\n",
        "\\\\\n",
        "\n",
        "`\\n`  是回车＋换行 把光标 先移到 行首 然后换到下一行 也就是下一行的行首拉\n",
        "\n",
        "```\n",
        "int main() {\n",
        "\n",
        "cout << \"hahaha\" << \"\\n\" << \"xixi\" }\n",
        "```\n",
        "则 显示\n",
        "```\n",
        "hahaha\n",
        "xixi```"
      ]
    },
    {
      "metadata": {
        "id": "Dml4iOVa2DKL",
        "colab_type": "code",
        "outputId": "ca8b413a-5b9c-46f9-ccbb-b87290f1e798",
        "colab": {
          "base_uri": "https://localhost:8080/",
          "height": 88
        }
      },
      "cell_type": "code",
      "source": [
        "features[:3]"
      ],
      "execution_count": 0,
      "outputs": [
        {
          "output_type": "execute_result",
          "data": {
            "text/plain": [
              "['absolutely wonderful  silky and sexy and comfortable',\n",
              " 'love this dress  its sooo pretty  i happened to find it in a store and im glad i did bc i never would have ordered it online bc its petite  i bought a petite and am 58  i love the length on me hits just a little below the knee  would definitely be a true midi on someone who is truly petite',\n",
              " 'i had such high hopes for this dress and really wanted it to work for me i initially ordered the petite small my usual size but i found this to be outrageously small so small in fact that i could not zip it up i reordered it in petite medium which was just ok overall the top half was comfortable and fit nicely but the bottom half had a very tight under layer and several somewhat cheap net over layers imo a major design flaw was the net over layer sewn directly into the zipper  it c']"
            ]
          },
          "metadata": {
            "tags": []
          },
          "execution_count": 19
        }
      ]
    },
    {
      "metadata": {
        "id": "grEBL7hO2DNU",
        "colab_type": "code",
        "colab": {}
      },
      "cell_type": "code",
      "source": [
        "labels = np.array(df['Recommended IND'], np.int)"
      ],
      "execution_count": 0,
      "outputs": []
    },
    {
      "metadata": {
        "id": "Bdbu7Bwq67KZ",
        "colab_type": "code",
        "outputId": "c72ab1b9-09e6-4600-c3c7-41705a75921d",
        "colab": {
          "base_uri": "https://localhost:8080/",
          "height": 34
        }
      },
      "cell_type": "code",
      "source": [
        "labels.shape"
      ],
      "execution_count": 0,
      "outputs": [
        {
          "output_type": "execute_result",
          "data": {
            "text/plain": [
              "(22628,)"
            ]
          },
          "metadata": {
            "tags": []
          },
          "execution_count": 21
        }
      ]
    },
    {
      "metadata": {
        "id": "i0qs4eCj67N1",
        "colab_type": "code",
        "outputId": "3ea475ea-e033-4351-907f-95a7494b7db2",
        "colab": {
          "base_uri": "https://localhost:8080/",
          "height": 34
        }
      },
      "cell_type": "code",
      "source": [
        "labels[labels == 1].shape[0]"
      ],
      "execution_count": 0,
      "outputs": [
        {
          "output_type": "execute_result",
          "data": {
            "text/plain": [
              "18527"
            ]
          },
          "metadata": {
            "tags": []
          },
          "execution_count": 22
        }
      ]
    },
    {
      "metadata": {
        "id": "pEFmq_Qs67RB",
        "colab_type": "code",
        "outputId": "21af0331-c52f-452a-83a4-c9cf59dededf",
        "colab": {
          "base_uri": "https://localhost:8080/",
          "height": 34
        }
      },
      "cell_type": "code",
      "source": [
        "labels[labels == 0].shape[0]"
      ],
      "execution_count": 0,
      "outputs": [
        {
          "output_type": "execute_result",
          "data": {
            "text/plain": [
              "4101"
            ]
          },
          "metadata": {
            "tags": []
          },
          "execution_count": 23
        }
      ]
    },
    {
      "metadata": {
        "id": "JiLbnH9U67bs",
        "colab_type": "code",
        "outputId": "267bae89-9059-4574-ec63-f891380ed636",
        "colab": {
          "base_uri": "https://localhost:8080/",
          "height": 34
        }
      },
      "cell_type": "code",
      "source": [
        "from keras.utils import to_categorical # Convert a class vector (integers) to binary class matrix."
      ],
      "execution_count": 0,
      "outputs": [
        {
          "output_type": "stream",
          "text": [
            "Using TensorFlow backend.\n"
          ],
          "name": "stderr"
        }
      ]
    },
    {
      "metadata": {
        "id": "5HcvmdSv2DQL",
        "colab_type": "code",
        "colab": {}
      },
      "cell_type": "code",
      "source": [
        "labels = to_categorical(labels)"
      ],
      "execution_count": 0,
      "outputs": []
    },
    {
      "metadata": {
        "id": "v9RQf5347gwa",
        "colab_type": "code",
        "outputId": "84221aa0-8936-4ca2-c6ea-d5e52835304b",
        "colab": {
          "base_uri": "https://localhost:8080/",
          "height": 187
        }
      },
      "cell_type": "code",
      "source": [
        "labels[:10]"
      ],
      "execution_count": 0,
      "outputs": [
        {
          "output_type": "execute_result",
          "data": {
            "text/plain": [
              "array([[0., 1.],\n",
              "       [0., 1.],\n",
              "       [1., 0.],\n",
              "       [0., 1.],\n",
              "       [0., 1.],\n",
              "       [1., 0.],\n",
              "       [0., 1.],\n",
              "       [0., 1.],\n",
              "       [0., 1.],\n",
              "       [0., 1.]], dtype=float32)"
            ]
          },
          "metadata": {
            "tags": []
          },
          "execution_count": 26
        }
      ]
    },
    {
      "metadata": {
        "id": "ZPS4Svzg7gzq",
        "colab_type": "code",
        "colab": {}
      },
      "cell_type": "code",
      "source": [
        "from keras.preprocessing.sequence import pad_sequences\n",
        "from keras.preprocessing.text import Tokenizer"
      ],
      "execution_count": 0,
      "outputs": []
    },
    {
      "metadata": {
        "id": "U58HujoE7g-w",
        "colab_type": "code",
        "colab": {}
      },
      "cell_type": "code",
      "source": [
        "t = Tokenizer()\n",
        "t.fit_on_texts(features) # 将输入的文本中的每个词编号，编号是根据词频的，词频越大，编号越小\n",
        "vocabulary_size = len(t.word_index) + 1 # word_index 每个词的编号"
      ],
      "execution_count": 0,
      "outputs": []
    },
    {
      "metadata": {
        "id": "tfg4WB248z2X",
        "colab_type": "code",
        "outputId": "a9c33edd-5854-4997-9fb2-07c2306ce955",
        "colab": {
          "base_uri": "https://localhost:8080/",
          "height": 34
        }
      },
      "cell_type": "code",
      "source": [
        "print('Vocabulary size : {}'.format(vocabulary_size))"
      ],
      "execution_count": 0,
      "outputs": [
        {
          "output_type": "stream",
          "text": [
            "Vocabulary size : 19370\n"
          ],
          "name": "stdout"
        }
      ]
    },
    {
      "metadata": {
        "id": "MFFi6PCO8z58",
        "colab_type": "code",
        "colab": {}
      },
      "cell_type": "code",
      "source": [
        "encoded_features = t.texts_to_sequences(features) # 将文字转化成数字列表，使用每个词的编号进行编号\n",
        "\n",
        "max_length = 300\n",
        "\n",
        "padded_features = pad_sequences(encoded_features, maxlen=max_length, padding='post') # 将每条评论的长度设置一个固定值"
      ],
      "execution_count": 0,
      "outputs": []
    },
    {
      "metadata": {
        "id": "XPJzUdH080Ck",
        "colab_type": "code",
        "outputId": "e445d3a1-7348-44bf-eff8-f8b918959eeb",
        "colab": {
          "base_uri": "https://localhost:8080/",
          "height": 34
        }
      },
      "cell_type": "code",
      "source": [
        "embeddings_index = dict()\n",
        "with open('/content/gdrive/My Drive/NLP/glove.840B.300d.txt') as file:\n",
        "    data = file.readlines()\n",
        "    \n",
        "# store <key, value> pair of FastText vectors\n",
        "for line in data[1:]:\n",
        "    word, vec = line.split(' ', 1)\n",
        "    embeddings_index[word] = np.array([float(index) for index in vec.split()], dtype='float32')\n",
        "print('Loaded {} word vectors.'.format(len(embeddings_index)))\n",
        "\n",
        "\n",
        "embedding_matrix = np.zeros((vocabulary_size, max_length))\n",
        "for word, i in t.word_index.items():\n",
        "    embedding_vector = embeddings_index.get(word)\n",
        "    if embedding_vector is not None:\n",
        "        embedding_matrix[i] = embedding_vector"
      ],
      "execution_count": 0,
      "outputs": [
        {
          "output_type": "stream",
          "text": [
            "Loaded 2196016 word vectors.\n"
          ],
          "name": "stdout"
        }
      ]
    },
    {
      "metadata": {
        "id": "0ZnYIwR99WsU",
        "colab_type": "code",
        "colab": {}
      },
      "cell_type": "code",
      "source": [
        "words = []\n",
        "for word, i in t.word_index.items():\n",
        "    embedding_vector = embeddings_index.get(word)\n",
        "    if embedding_vector is not None:\n",
        "        words.append(word)"
      ],
      "execution_count": 0,
      "outputs": []
    },
    {
      "metadata": {
        "id": "UHBviVb89WvT",
        "colab_type": "code",
        "outputId": "b3e8ba60-0496-4b32-9275-239fa0233e4e",
        "colab": {
          "base_uri": "https://localhost:8080/",
          "height": 34
        }
      },
      "cell_type": "code",
      "source": [
        "print('{} words covered.'.format(len(words)))\n"
      ],
      "execution_count": 0,
      "outputs": [
        {
          "output_type": "stream",
          "text": [
            "13911 words covered.\n"
          ],
          "name": "stdout"
        }
      ]
    },
    {
      "metadata": {
        "id": "kUhAGwCsCsaA",
        "colab_type": "code",
        "colab": {}
      },
      "cell_type": "code",
      "source": [
        "def train_test_split(features, labels, **kwargs):\n",
        "    \n",
        "    # concatenate the features and labels array\n",
        "    dataset = np.c_[features, labels]\n",
        "\n",
        "    # shuffle the dataset\n",
        "    np.random.shuffle(dataset)\n",
        "\n",
        "    # split the dataset into features, labels\n",
        "    features, labels = dataset[:, 0:max_length], dataset[:, max_length:]\n",
        "\n",
        "    # get the split size for training dataset\n",
        "    split_index = int(kwargs['train_size'] * len(features))\n",
        "\n",
        "    # split the dataset into training/validation dataset\n",
        "    train_features, validation_features = features[:split_index], features[split_index:]\n",
        "    train_labels, validation_labels = labels[:split_index], labels[split_index:]\n",
        "\n",
        "    # get the split size for validation dataset\n",
        "    split_index = int(kwargs['validation_size'] * len(validation_features))\n",
        "\n",
        "    # split the validation dataset into validation/testing dataset\n",
        "    validation_features, test_features = validation_features[:split_index], validation_features[split_index:]\n",
        "    validation_labels, test_labels = validation_labels[:split_index], validation_labels[split_index:]\n",
        "\n",
        "    # return the partitioned dataset\n",
        "    return [train_features, train_labels], [validation_features, validation_labels], [test_features, test_labels]"
      ],
      "execution_count": 0,
      "outputs": []
    },
    {
      "metadata": {
        "id": "Lqasn3QjCsiZ",
        "colab_type": "code",
        "colab": {}
      },
      "cell_type": "code",
      "source": [
        "train_dataset, validation_dataset, test_dataset = train_test_split(features=padded_features, labels=labels,\n",
        "                                                                   train_size=0.60, validation_size=0.50)"
      ],
      "execution_count": 0,
      "outputs": []
    },
    {
      "metadata": {
        "id": "w8zpJVmPCsna",
        "colab_type": "code",
        "outputId": "0bfc6e4a-051a-4e2f-dea1-ba69470df48e",
        "colab": {
          "base_uri": "https://localhost:8080/",
          "height": 85
        }
      },
      "cell_type": "code",
      "source": [
        "print('Dataset size : {}'.format(padded_features.shape[0]))\n",
        "print('Train dataset size : {}'.format(train_dataset[0].shape[0]))\n",
        "print('Validation dataset size : {}'.format(validation_dataset[0].shape[0]))\n",
        "print('Test dataset size : {}'.format(test_dataset[0].shape[0]))"
      ],
      "execution_count": 0,
      "outputs": [
        {
          "output_type": "stream",
          "text": [
            "Dataset size : 22628\n",
            "Train dataset size : 13576\n",
            "Validation dataset size : 4526\n",
            "Test dataset size : 4526\n"
          ],
          "name": "stdout"
        }
      ]
    },
    {
      "metadata": {
        "id": "yCrn3j6pDZfs",
        "colab_type": "code",
        "colab": {}
      },
      "cell_type": "code",
      "source": [
        "from keras import callbacks\n",
        "from keras.layers import Bidirectional\n",
        "from keras.layers import Dense\n",
        "from keras.layers import Dropout\n",
        "from keras.layers import Embedding\n",
        "from keras.layers import LSTM\n",
        "from keras.models import Sequential\n",
        "from sklearn.model_selection import StratifiedKFold"
      ],
      "execution_count": 0,
      "outputs": []
    },
    {
      "metadata": {
        "id": "ahSTXU6QDZlB",
        "colab_type": "code",
        "outputId": "9c014d48-aba0-44bc-981a-93c98569a9e4",
        "colab": {
          "base_uri": "https://localhost:8080/",
          "height": 1329
        }
      },
      "cell_type": "code",
      "source": [
        "model = Sequential()\n",
        "e = Embedding(vocabulary_size, max_length,\n",
        "              weights=[embedding_matrix], input_length=max_length, trainable=False)\n",
        "model.add(e)\n",
        "model.add(Bidirectional(LSTM(256)))\n",
        "model.add(Dropout(0.50))\n",
        "model.add(Dense(2, activation='sigmoid'))\n",
        "model.compile(loss='binary_crossentropy', optimizer='adam', metrics=['accuracy'])\n",
        "\n",
        "model.fit(train_dataset[0], train_dataset[1], epochs=32, batch_size=256, verbose=1,\n",
        "          validation_data=(validation_dataset[0], validation_dataset[1]))\n",
        "\n",
        "score = model.evaluate(test_dataset[0], test_dataset[1], verbose=1)\n",
        "\n",
        "print('loss : {}, acc : {}'.format(score[0], score[1]))"
      ],
      "execution_count": 0,
      "outputs": [
        {
          "output_type": "stream",
          "text": [
            "WARNING:tensorflow:From /usr/local/lib/python3.6/dist-packages/tensorflow/python/framework/op_def_library.py:263: colocate_with (from tensorflow.python.framework.ops) is deprecated and will be removed in a future version.\n",
            "Instructions for updating:\n",
            "Colocations handled automatically by placer.\n",
            "WARNING:tensorflow:From /usr/local/lib/python3.6/dist-packages/keras/backend/tensorflow_backend.py:3445: calling dropout (from tensorflow.python.ops.nn_ops) with keep_prob is deprecated and will be removed in a future version.\n",
            "Instructions for updating:\n",
            "Please use `rate` instead of `keep_prob`. Rate should be set to `rate = 1 - keep_prob`.\n",
            "WARNING:tensorflow:From /usr/local/lib/python3.6/dist-packages/tensorflow/python/ops/math_ops.py:3066: to_int32 (from tensorflow.python.ops.math_ops) is deprecated and will be removed in a future version.\n",
            "Instructions for updating:\n",
            "Use tf.cast instead.\n",
            "Train on 13576 samples, validate on 4526 samples\n",
            "Epoch 1/32\n",
            "13576/13576 [==============================] - 81s 6ms/step - loss: 0.4666 - acc: 0.8154 - val_loss: 0.4404 - val_acc: 0.8111\n",
            "Epoch 2/32\n",
            "13576/13576 [==============================] - 78s 6ms/step - loss: 0.4453 - acc: 0.8208 - val_loss: 0.4472 - val_acc: 0.8016\n",
            "Epoch 3/32\n",
            "13576/13576 [==============================] - 78s 6ms/step - loss: 0.3595 - acc: 0.8393 - val_loss: 0.3480 - val_acc: 0.8496\n",
            "Epoch 4/32\n",
            "13576/13576 [==============================] - 79s 6ms/step - loss: 0.3440 - acc: 0.8480 - val_loss: 0.3110 - val_acc: 0.8658\n",
            "Epoch 5/32\n",
            "13576/13576 [==============================] - 79s 6ms/step - loss: 0.2974 - acc: 0.8726 - val_loss: 0.2863 - val_acc: 0.8682\n",
            "Epoch 6/32\n",
            "13576/13576 [==============================] - 79s 6ms/step - loss: 0.2790 - acc: 0.8789 - val_loss: 0.3128 - val_acc: 0.8557\n",
            "Epoch 7/32\n",
            "13576/13576 [==============================] - 78s 6ms/step - loss: 0.2673 - acc: 0.8834 - val_loss: 0.2653 - val_acc: 0.8858\n",
            "Epoch 8/32\n",
            "13576/13576 [==============================] - 79s 6ms/step - loss: 0.2427 - acc: 0.8950 - val_loss: 0.2843 - val_acc: 0.8889\n",
            "Epoch 9/32\n",
            "13576/13576 [==============================] - 79s 6ms/step - loss: 0.2409 - acc: 0.8954 - val_loss: 0.2556 - val_acc: 0.8850\n",
            "Epoch 10/32\n",
            "13576/13576 [==============================] - 79s 6ms/step - loss: 0.2297 - acc: 0.9023 - val_loss: 0.2606 - val_acc: 0.8831\n",
            "Epoch 11/32\n",
            "13576/13576 [==============================] - 79s 6ms/step - loss: 0.2142 - acc: 0.9095 - val_loss: 0.2447 - val_acc: 0.8922\n",
            "Epoch 12/32\n",
            "13576/13576 [==============================] - 79s 6ms/step - loss: 0.2010 - acc: 0.9149 - val_loss: 0.2427 - val_acc: 0.8927\n",
            "Epoch 13/32\n",
            "13576/13576 [==============================] - 79s 6ms/step - loss: 0.1872 - acc: 0.9211 - val_loss: 0.2471 - val_acc: 0.8857\n",
            "Epoch 14/32\n",
            "13576/13576 [==============================] - 78s 6ms/step - loss: 0.1793 - acc: 0.9237 - val_loss: 0.2647 - val_acc: 0.8883\n",
            "Epoch 15/32\n",
            "13576/13576 [==============================] - 78s 6ms/step - loss: 0.1695 - acc: 0.9282 - val_loss: 0.2605 - val_acc: 0.8907\n",
            "Epoch 16/32\n",
            "13576/13576 [==============================] - 79s 6ms/step - loss: 0.1464 - acc: 0.9416 - val_loss: 0.3365 - val_acc: 0.8868\n",
            "Epoch 17/32\n",
            "13576/13576 [==============================] - 79s 6ms/step - loss: 0.1462 - acc: 0.9413 - val_loss: 0.2935 - val_acc: 0.8923\n",
            "Epoch 18/32\n",
            "13576/13576 [==============================] - 79s 6ms/step - loss: 0.1264 - acc: 0.9485 - val_loss: 0.2993 - val_acc: 0.8897\n",
            "Epoch 19/32\n",
            "13576/13576 [==============================] - 78s 6ms/step - loss: 0.1143 - acc: 0.9555 - val_loss: 0.3131 - val_acc: 0.8795\n",
            "Epoch 20/32\n",
            "13576/13576 [==============================] - 79s 6ms/step - loss: 0.0937 - acc: 0.9649 - val_loss: 0.3600 - val_acc: 0.8953\n",
            "Epoch 21/32\n",
            "13576/13576 [==============================] - 79s 6ms/step - loss: 0.0702 - acc: 0.9753 - val_loss: 0.3768 - val_acc: 0.8875\n",
            "Epoch 22/32\n",
            "13576/13576 [==============================] - 79s 6ms/step - loss: 0.0569 - acc: 0.9800 - val_loss: 0.4155 - val_acc: 0.8894\n",
            "Epoch 23/32\n",
            "13576/13576 [==============================] - 79s 6ms/step - loss: 0.0494 - acc: 0.9825 - val_loss: 0.4080 - val_acc: 0.8770\n",
            "Epoch 24/32\n",
            "13576/13576 [==============================] - 79s 6ms/step - loss: 0.0486 - acc: 0.9837 - val_loss: 0.4449 - val_acc: 0.8895\n",
            "Epoch 25/32\n",
            "13576/13576 [==============================] - 79s 6ms/step - loss: 0.0336 - acc: 0.9889 - val_loss: 0.5138 - val_acc: 0.8788\n",
            "Epoch 26/32\n",
            "13576/13576 [==============================] - 79s 6ms/step - loss: 0.0435 - acc: 0.9849 - val_loss: 0.5550 - val_acc: 0.8847\n",
            "Epoch 27/32\n",
            "13576/13576 [==============================] - 79s 6ms/step - loss: 0.0222 - acc: 0.9937 - val_loss: 0.5366 - val_acc: 0.8747\n",
            "Epoch 28/32\n",
            "13576/13576 [==============================] - 79s 6ms/step - loss: 0.0551 - acc: 0.9807 - val_loss: 0.4854 - val_acc: 0.8882\n",
            "Epoch 29/32\n",
            "13576/13576 [==============================] - 80s 6ms/step - loss: 0.0174 - acc: 0.9959 - val_loss: 0.5909 - val_acc: 0.8909\n",
            "Epoch 30/32\n",
            "13576/13576 [==============================] - 79s 6ms/step - loss: 0.0121 - acc: 0.9978 - val_loss: 0.5852 - val_acc: 0.8841\n",
            "Epoch 31/32\n",
            "13576/13576 [==============================] - 79s 6ms/step - loss: 0.0076 - acc: 0.9986 - val_loss: 0.6238 - val_acc: 0.8890\n",
            "Epoch 32/32\n",
            "13576/13576 [==============================] - 79s 6ms/step - loss: 0.0039 - acc: 0.9997 - val_loss: 0.6997 - val_acc: 0.8906\n",
            "4526/4526 [==============================] - 70s 15ms/step\n",
            "loss : 0.633809939916734, acc : 0.893172779496244\n"
          ],
          "name": "stdout"
        }
      ]
    },
    {
      "metadata": {
        "id": "FgDEYyAOw07T",
        "colab_type": "code",
        "colab": {}
      },
      "cell_type": "code",
      "source": [
        "import pickle\n",
        "pkl_filename = \"/content/gdrive/My Drive/NLP/RNN_Recommended.pkl\"  \n",
        "with open(pkl_filename, 'wb') as file:  \n",
        "    pickle.dump(model, file)"
      ],
      "execution_count": 0,
      "outputs": []
    },
    {
      "metadata": {
        "id": "Ld3AnPxB0Up8",
        "colab_type": "code",
        "outputId": "2fa6d4a6-824d-4a0a-b318-c8e92229b967",
        "colab": {
          "base_uri": "https://localhost:8080/",
          "height": 34
        }
      },
      "cell_type": "code",
      "source": [
        "test_dataset[1][0]"
      ],
      "execution_count": 0,
      "outputs": [
        {
          "output_type": "execute_result",
          "data": {
            "text/plain": [
              "array([1., 0.])"
            ]
          },
          "metadata": {
            "tags": []
          },
          "execution_count": 81
        }
      ]
    },
    {
      "metadata": {
        "id": "K98dymRjDiIb",
        "colab_type": "code",
        "colab": {}
      },
      "cell_type": "code",
      "source": [
        "from sklearn.metrics import classification_report\n",
        "from sklearn.metrics import confusion_matrix\n",
        "\n",
        "test_predictions = model.predict(test_dataset[0])\n",
        "test_predictions = np.argmax(test_predictions, axis=1)\n",
        "\n",
        "class_names = ['(0) Not recommended class', '(1) Recommended class']\n",
        "report = classification_report(np.argmax(test_dataset[1], axis=1), test_predictions, target_names=class_names)"
      ],
      "execution_count": 0,
      "outputs": []
    },
    {
      "metadata": {
        "id": "6jYUltOxDiNu",
        "colab_type": "code",
        "outputId": "893a1b33-ca91-402f-d2a5-eb8938929e34",
        "colab": {
          "base_uri": "https://localhost:8080/",
          "height": 170
        }
      },
      "cell_type": "code",
      "source": [
        "print(report)"
      ],
      "execution_count": 0,
      "outputs": [
        {
          "output_type": "stream",
          "text": [
            "                           precision    recall  f1-score   support\n",
            "\n",
            "(0) Not recommended class       0.72      0.68      0.70       828\n",
            "    (1) Recommended class       0.93      0.94      0.94      3698\n",
            "\n",
            "                micro avg       0.89      0.89      0.89      4526\n",
            "                macro avg       0.82      0.81      0.82      4526\n",
            "             weighted avg       0.89      0.89      0.89      4526\n",
            "\n"
          ],
          "name": "stdout"
        }
      ]
    },
    {
      "metadata": {
        "id": "sTZzk6H79WyG",
        "colab_type": "code",
        "outputId": "9f55683e-16be-4182-ba8e-1b6309e7e4d6",
        "colab": {
          "base_uri": "https://localhost:8080/",
          "height": 51
        }
      },
      "cell_type": "code",
      "source": [
        "conf_matrix = confusion_matrix(np.argmax(test_dataset[1], axis=1), test_predictions)\n",
        "print(conf_matrix)"
      ],
      "execution_count": 0,
      "outputs": [
        {
          "output_type": "stream",
          "text": [
            "[[ 567  261]\n",
            " [ 221 3477]]\n"
          ],
          "name": "stdout"
        }
      ]
    },
    {
      "metadata": {
        "id": "K6UAvA_3u9IC",
        "colab_type": "code",
        "outputId": "c999673f-7e30-4f06-c1c1-9f94985f5806",
        "colab": {
          "base_uri": "https://localhost:8080/",
          "height": 483
        }
      },
      "cell_type": "code",
      "source": [
        "plt.figure(figsize=(8, 8))\n",
        "sns.heatmap(conf_matrix, annot=True, annot_kws={'size': 16}, cmap='coolwarm', fmt='.2f')\n",
        "plt.savefig('conf_matrix_recommendation.png', format='png', dpi=300)"
      ],
      "execution_count": 0,
      "outputs": [
        {
          "output_type": "display_data",
          "data": {
            "image/png": "[encoded data removed]",
            "text/plain": [
              "<Figure size 576x576 with 2 Axes>"
            ]
          },
          "metadata": {
            "tags": []
          }
        }
      ]
    },
    {
      "metadata": {
        "id": "X8_R1Djru9ac",
        "colab_type": "code",
        "outputId": "99e289fd-d91f-460e-886f-d47d625a9efa",
        "colab": {
          "base_uri": "https://localhost:8080/",
          "height": 34
        }
      },
      "cell_type": "code",
      "source": [
        "from sklearn.metrics import roc_auc_score\n",
        "\n",
        "roc = roc_auc_score(y_score=test_predictions, y_true=np.argmax(test_dataset[1], 1))\n",
        "print(roc)"
      ],
      "execution_count": 0,
      "outputs": [
        {
          "output_type": "stream",
          "text": [
            "0.8125102875820067\n"
          ],
          "name": "stdout"
        }
      ]
    },
    {
      "metadata": {
        "id": "05jSyYA_u9k2",
        "colab_type": "code",
        "outputId": "5075dee5-8e10-4110-ee8d-84c016afa2f2",
        "colab": {
          "base_uri": "https://localhost:8080/",
          "height": 34
        }
      },
      "cell_type": "code",
      "source": [
        "from sklearn.metrics import auc\n",
        "from sklearn.metrics import roc_curve\n",
        "\n",
        "fpr, tpr, _ = roc_curve(np.argmax(test_dataset[1], 1), test_predictions)\n",
        "roc_auc = auc(fpr, tpr)\n",
        "print(roc_auc)"
      ],
      "execution_count": 0,
      "outputs": [
        {
          "output_type": "stream",
          "text": [
            "0.8125102875820067\n"
          ],
          "name": "stdout"
        }
      ]
    },
    {
      "metadata": {
        "id": "rt_rkpvRvKaE",
        "colab_type": "code",
        "outputId": "e78fba6a-7776-4651-bda1-855370ea3ff5",
        "colab": {
          "base_uri": "https://localhost:8080/",
          "height": 457
        }
      },
      "cell_type": "code",
      "source": [
        "plt.figure(figsize=(10, 7))\n",
        "plt.plot(fpr, tpr, lw=2, color='darkorange', label='ROC curve (area = %0.2f)' % roc_auc)\n",
        "plt.plot([0, 1], [0, 1], color='navy', lw=2, linestyle='--')\n",
        "plt.xlim([0.0, 1.0])\n",
        "plt.ylim([0.0, 1.05])\n",
        "plt.xlabel('False Positive Rate')\n",
        "plt.ylabel('True Positive Rate')\n",
        "plt.title('Receiver operating characteristic example')\n",
        "plt.legend(loc='lower right', fontsize=16)\n",
        "plt.savefig('roc.png', format='png', dpi=300)\n",
        "plt.show()"
      ],
      "execution_count": 0,
      "outputs": [
        {
          "output_type": "display_data",
          "data": {
            "image/png": "[encoded data removed]",
            "text/plain": [
              "<Figure size 720x504 with 1 Axes>"
            ]
          },
          "metadata": {
            "tags": []
          }
        }
      ]
    }
  ]
}